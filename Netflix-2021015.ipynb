{
 "cells": [
  {
   "cell_type": "markdown",
   "metadata": {},
   "source": [
    "## A3 CE408 \n",
    "## 2021015"
   ]
  },
  {
   "cell_type": "code",
   "execution_count": 17,
   "metadata": {},
   "outputs": [],
   "source": [
    "from pyspark.sql import SparkSession\n",
    "from pyspark.sql.functions import col, count, desc, avg, max, min, split, length, collect_list\n",
    "import os"
   ]
  },
  {
   "cell_type": "markdown",
   "metadata": {},
   "source": [
    "### Create session"
   ]
  },
  {
   "cell_type": "code",
   "execution_count": 18,
   "metadata": {},
   "outputs": [],
   "source": [
    "def create_spark_session():\n",
    "    return SparkSession.builder \\\n",
    "        .appName(\"Netflix Dataset EDA\") \\\n",
    "        .getOrCreate()"
   ]
  },
  {
   "cell_type": "markdown",
   "metadata": {},
   "source": [
    "### Load Dataset"
   ]
  },
  {
   "cell_type": "code",
   "execution_count": 19,
   "metadata": {},
   "outputs": [],
   "source": [
    "def load_netflix_dataset(spark, file_path):\n",
    "    return spark.read.csv(file_path, header=True, inferSchema=True)"
   ]
  },
  {
   "cell_type": "markdown",
   "metadata": {},
   "source": [
    "### Perform Exploratory Data Analysis"
   ]
  },
  {
   "cell_type": "code",
   "execution_count": 20,
   "metadata": {},
   "outputs": [],
   "source": [
    "def perform_eda(netflix_df):\n",
    "\n",
    "    print(\"1. Basic Dataset Information:\")\n",
    "    netflix_df.printSchema()\n",
    "    print(f\"\\nTotal number of records: {netflix_df.count()}\")\n",
    "\n",
    "    print(\"\\n2. Top Directors with the Most Titles:\")\n",
    "    top_directors = netflix_df.groupBy(\"director\") \\\n",
    "        .agg(count(\"*\").alias(\"title_count\")) \\\n",
    "        .orderBy(col(\"title_count\").desc()) \\\n",
    "        .limit(10)\n",
    "    top_directors.show()\n",
    "\n",
    "    print(\"\\n3. Average Release Year by Content Type:\")\n",
    "    avg_release_year = netflix_df.groupBy(\"type\") \\\n",
    "        .agg(avg(\"release_year\").alias(\"avg_release_year\")) \\\n",
    "        .orderBy(\"type\")\n",
    "    avg_release_year.show()\n",
    "\n",
    "    print(\"\\n4. Distribution of Content by Duration Length:\")\n",
    "    content_duration_dist = netflix_df \\\n",
    "        .withColumn(\"duration_numeric\", split(col(\"duration\"), \" \")[0].cast(\"int\")) \\\n",
    "        .groupBy(\"type\") \\\n",
    "        .agg(avg(\"duration_numeric\").alias(\"avg_duration\"), \\\n",
    "             max(\"duration_numeric\").alias(\"max_duration\"), \\\n",
    "             min(\"duration_numeric\").alias(\"min_duration\"))\n",
    "    content_duration_dist.show()\n",
    "\n",
    "    print(\"\\n5. Countries with the Most Diverse Genres:\")\n",
    "    country_genres = netflix_df \\\n",
    "        .groupBy(\"country\") \\\n",
    "        .agg(count(\"listed_in\").alias(\"genre_count\")) \\\n",
    "        .orderBy(desc(\"genre_count\")) \\\n",
    "        .limit(10)\n",
    "    country_genres.show()\n",
    "\n",
    "    print(\"\\n6. Titles with the Longest Words:\")\n",
    "    longest_word_titles = netflix_df \\\n",
    "        .withColumn(\"title_length\", length(col(\"title\"))) \\\n",
    "        .orderBy(desc(\"title_length\")) \\\n",
    "        .select(\"title\", \"title_length\") \\\n",
    "        .limit(10)\n",
    "    longest_word_titles.show()\n",
    "\n",
    "    print(\"\\n7. Grouping Content by Rating and Analyzing Count:\")\n",
    "    rating_analysis = netflix_df.groupBy(\"rating\") \\\n",
    "        .agg(count(\"*\").alias(\"count\")) \\\n",
    "        .orderBy(desc(\"count\"))\n",
    "    rating_analysis.show()\n"
   ]
  },
  {
   "cell_type": "markdown",
   "metadata": {},
   "source": [
    "### Creating Spark Session"
   ]
  },
  {
   "cell_type": "code",
   "execution_count": 21,
   "metadata": {},
   "outputs": [],
   "source": [
    "spark = create_spark_session()"
   ]
  },
  {
   "cell_type": "markdown",
   "metadata": {},
   "source": [
    "### Performing the Analysis"
   ]
  },
  {
   "cell_type": "code",
   "execution_count": 22,
   "metadata": {},
   "outputs": [
    {
     "name": "stdout",
     "output_type": "stream",
     "text": [
      "1. Basic Dataset Information:\n",
      "root\n",
      " |-- show_id: string (nullable = true)\n",
      " |-- type: string (nullable = true)\n",
      " |-- title: string (nullable = true)\n",
      " |-- director: string (nullable = true)\n",
      " |-- cast: string (nullable = true)\n",
      " |-- country: string (nullable = true)\n",
      " |-- date_added: string (nullable = true)\n",
      " |-- release_year: string (nullable = true)\n",
      " |-- rating: string (nullable = true)\n",
      " |-- duration: string (nullable = true)\n",
      " |-- listed_in: string (nullable = true)\n",
      " |-- description: string (nullable = true)\n",
      "\n",
      "\n",
      "Total number of records: 8809\n",
      "\n",
      "2. Top Directors with the Most Titles:\n",
      "+--------------------+-----------+\n",
      "|            director|title_count|\n",
      "+--------------------+-----------+\n",
      "|                NULL|       2636|\n",
      "|       Rajiv Chilaka|         19|\n",
      "|Raúl Campos, Jan ...|         18|\n",
      "|        Marcus Raboy|         16|\n",
      "|         Suhas Kadav|         16|\n",
      "|           Jay Karas|         14|\n",
      "| Cathy Garcia-Molina|         13|\n",
      "|     Youssef Chahine|         12|\n",
      "|     Martin Scorsese|         12|\n",
      "|         Jay Chapman|         12|\n",
      "+--------------------+-----------+\n",
      "\n",
      "\n",
      "3. Average Release Year by Content Type:\n",
      "+-------------+------------------+\n",
      "|         type|  avg_release_year|\n",
      "+-------------+------------------+\n",
      "|         NULL|              NULL|\n",
      "|        Movie|2013.1326463853452|\n",
      "|      TV Show|2016.6071829405162|\n",
      "|William Wyler|              NULL|\n",
      "+-------------+------------------+\n",
      "\n",
      "\n",
      "4. Distribution of Content by Duration Length:\n",
      "+-------------+------------------+------------+------------+\n",
      "|         type|      avg_duration|max_duration|min_duration|\n",
      "+-------------+------------------+------------+------------+\n",
      "|         NULL|              NULL|        NULL|        NULL|\n",
      "|      TV Show|1.7654320987654322|          17|           1|\n",
      "|        Movie| 99.88907068062828|        1994|           3|\n",
      "|William Wyler|              NULL|        NULL|        NULL|\n",
      "+-------------+------------------+------------+------------+\n",
      "\n",
      "\n",
      "5. Countries with the Most Diverse Genres:\n",
      "+--------------+-----------+\n",
      "|       country|genre_count|\n",
      "+--------------+-----------+\n",
      "| United States|       2805|\n",
      "|         India|        972|\n",
      "|          NULL|        830|\n",
      "|United Kingdom|        419|\n",
      "|         Japan|        245|\n",
      "|   South Korea|        199|\n",
      "|        Canada|        181|\n",
      "|         Spain|        145|\n",
      "|        France|        123|\n",
      "|        Mexico|        110|\n",
      "+--------------+-----------+\n",
      "\n",
      "\n",
      "6. Titles with the Longest Words:\n",
      "+--------------------+------------+\n",
      "|               title|title_length|\n",
      "+--------------------+------------+\n",
      "|Jim & Andy: The G...|         104|\n",
      "|Ken Burns Present...|          93|\n",
      "|Mike Birbiglia: W...|          88|\n",
      "|The Power of Gray...|          88|\n",
      "|Steve Martin and ...|          83|\n",
      "|Cultivating the S...|          79|\n",
      "|Power Rangers Sam...|          78|\n",
      "|Willy and the Gua...|          77|\n",
      "|Ya no estoy aquí:...|          76|\n",
      "|The Road to El Ca...|          75|\n",
      "+--------------------+------------+\n",
      "\n",
      "\n",
      "7. Grouping Content by Rating and Analyzing Count:\n",
      "+-----------------+-----+\n",
      "|           rating|count|\n",
      "+-----------------+-----+\n",
      "|            TV-MA| 3195|\n",
      "|            TV-14| 2158|\n",
      "|            TV-PG|  862|\n",
      "|                R|  796|\n",
      "|            PG-13|  489|\n",
      "|            TV-Y7|  334|\n",
      "|             TV-Y|  307|\n",
      "|               PG|  286|\n",
      "|             TV-G|  220|\n",
      "|               NR|   80|\n",
      "|                G|   41|\n",
      "|             NULL|    6|\n",
      "|         TV-Y7-FV|    6|\n",
      "|               UR|    3|\n",
      "|            NC-17|    3|\n",
      "|             2021|    2|\n",
      "| November 1, 2020|    1|\n",
      "| Shavidee Trotter|    1|\n",
      "|    Adriane Lenox|    1|\n",
      "|    Maury Chaykin|    1|\n",
      "+-----------------+-----+\n",
      "only showing top 20 rows\n",
      "\n"
     ]
    }
   ],
   "source": [
    " # Get the current directory\n",
    "dataset_path = 'netflix_titles.csv' \n",
    "\n",
    "# Load Netflix Dataset\n",
    "netflix_df = load_netflix_dataset(spark, dataset_path)\n",
    "\n",
    "# Perform EDA\n",
    "perform_eda(netflix_df)"
   ]
  },
  {
   "cell_type": "code",
   "execution_count": 23,
   "metadata": {},
   "outputs": [],
   "source": [
    "spark.stop()"
   ]
  }
 ],
 "metadata": {
  "kernelspec": {
   "display_name": "Python 3 (ipykernel)",
   "language": "python",
   "name": "python3"
  },
  "language_info": {
   "codemirror_mode": {
    "name": "ipython",
    "version": 3
   },
   "file_extension": ".py",
   "mimetype": "text/x-python",
   "name": "python",
   "nbconvert_exporter": "python",
   "pygments_lexer": "ipython3",
   "version": "3.11.6"
  }
 },
 "nbformat": 4,
 "nbformat_minor": 4
}
